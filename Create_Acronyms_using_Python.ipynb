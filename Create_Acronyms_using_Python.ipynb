{
  "nbformat": 4,
  "nbformat_minor": 0,
  "metadata": {
    "colab": {
      "name": "Create Acronyms using Python.ipynb",
      "provenance": [],
      "collapsed_sections": [],
      "authorship_tag": "ABX9TyPiQNSHwOCK1PwLahmWiEss",
      "include_colab_link": true
    },
    "kernelspec": {
      "name": "python3",
      "display_name": "Python 3"
    },
    "language_info": {
      "name": "python"
    }
  },
  "cells": [
    {
      "cell_type": "markdown",
      "metadata": {
        "id": "view-in-github",
        "colab_type": "text"
      },
      "source": [
        "<a href=\"https://colab.research.google.com/github/Harshit100234/Python-Projects/blob/main/Create_Acronyms_using_Python.ipynb\" target=\"_parent\"><img src=\"https://colab.research.google.com/assets/colab-badge.svg\" alt=\"Open In Colab\"/></a>"
      ]
    },
    {
      "cell_type": "code",
      "execution_count": 1,
      "metadata": {
        "id": "Stf_nF4SKJ7E"
      },
      "outputs": [],
      "source": [
        "## Creating Acronyms using Python"
      ]
    },
    {
      "cell_type": "code",
      "source": [
        "def acr():\n",
        "  user_word = str(input('Enter a Phrase: '))\n",
        "  data = user_word.split()\n",
        "  a = \" \"\n",
        "  for i in data:\n",
        "    a = a+str(i[0]).upper()\n",
        "  return a\n",
        "\n",
        "acr()\n",
        "\n",
        "\n"
      ],
      "metadata": {
        "colab": {
          "base_uri": "https://localhost:8080/",
          "height": 53
        },
        "id": "SKu-m_kJKnE1",
        "outputId": "509629f0-ff4c-42c3-d7c2-93df85583d20"
      },
      "execution_count": 10,
      "outputs": [
        {
          "name": "stdout",
          "output_type": "stream",
          "text": [
            "Enter a Phrase: Talk to you later\n"
          ]
        },
        {
          "output_type": "execute_result",
          "data": {
            "application/vnd.google.colaboratory.intrinsic+json": {
              "type": "string"
            },
            "text/plain": [
              "' TTYL'"
            ]
          },
          "metadata": {},
          "execution_count": 10
        }
      ]
    },
    {
      "cell_type": "code",
      "source": [
        ""
      ],
      "metadata": {
        "id": "2Z3wuj1hQCxZ"
      },
      "execution_count": 8,
      "outputs": []
    }
  ]
}